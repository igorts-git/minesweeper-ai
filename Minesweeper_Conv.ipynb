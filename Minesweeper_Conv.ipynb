{
  "nbformat": 4,
  "nbformat_minor": 0,
  "metadata": {
    "colab": {
      "provenance": [],
      "authorship_tag": "ABX9TyPst9NbuOH19uPfdhMm7xbU",
      "include_colab_link": true
    },
    "kernelspec": {
      "name": "python3",
      "display_name": "Python 3"
    },
    "language_info": {
      "name": "python"
    }
  },
  "cells": [
    {
      "cell_type": "markdown",
      "metadata": {
        "id": "view-in-github",
        "colab_type": "text"
      },
      "source": [
        "<a href=\"https://colab.research.google.com/github/igorts-git/minesweeper-ai/blob/main/Minesweeper_Conv.ipynb\" target=\"_parent\"><img src=\"https://colab.research.google.com/assets/colab-badge.svg\" alt=\"Open In Colab\"/></a>"
      ]
    },
    {
      "cell_type": "markdown",
      "source": [
        "# Minesweeper solver using convolutions"
      ],
      "metadata": {
        "id": "vYHO1Le0o6lY"
      }
    },
    {
      "cell_type": "markdown",
      "source": [
        "### Minesweeper engine"
      ],
      "metadata": {
        "id": "iSnbrIt4pCUR"
      }
    },
    {
      "cell_type": "code",
      "execution_count": null,
      "metadata": {
        "id": "8uLu2LQpo2vG"
      },
      "outputs": [],
      "source": [
        "from engine import MinesweeperEngine, CellValue, CELL_STR\n",
        "from enum import IntEnum\n",
        "import random, copy, time\n",
        "import torch\n",
        "import torch.nn as nn\n",
        "import torch.nn.functional as F\n",
        "import matplotlib.pyplot as plt\n",
        "%matplotlib inline"
      ]
    },
    {
      "cell_type": "code",
      "source": [
        "# We will use GPU if it is available. Training will run several times faster on a GPU.\n",
        "device = \"cuda\" if torch.cuda.is_available() else \"cpu\"\n",
        "print(f\"{device=}\")"
      ],
      "metadata": {
        "colab": {
          "base_uri": "https://localhost:8080/"
        },
        "id": "W6GBpwroqT_t",
        "outputId": "a4e07c08-7c4b-493e-bf51-05fec0049e2b"
      },
      "execution_count": null,
      "outputs": [
        {
          "output_type": "stream",
          "name": "stdout",
          "text": [
            "device='cpu'\n"
          ]
        }
      ]
    },
    {
      "cell_type": "code",
      "source": [
        "eng = MinesweeperEngine(width=10, height=12, num_mines=40)\n",
        "eng.partially_open(open_ratio=0.2)\n",
        "print(eng.to_str(is_view_mask=True))\n",
        "print(f\"{eng.is_game_over=} open_ratio={eng.open_ratio():.2f}\")\n",
        "print(eng.to_tensor(is_view_mask=True, only_flags_vs_other=False))\n",
        "print(eng.to_tensor(is_view_mask=False, only_flags_vs_other=False, mask_open=False))\n",
        "print(eng.to_tensor(is_view_mask=False, only_flags_vs_other=True, mask_open=False))\n",
        "print(eng.to_tensor(is_view_mask=False, only_flags_vs_other=True, mask_open=True))"
      ],
      "metadata": {
        "colab": {
          "base_uri": "https://localhost:8080/"
        },
        "id": "1Fc7t2QWsnY-",
        "outputId": "2eccb708-a4eb-4aae-c976-7b6ade9cccd5"
      },
      "execution_count": null,
      "outputs": [
        {
          "output_type": "stream",
          "name": "stdout",
          "text": [
            "2 ☐ 1 ☐ 2 ☐ ☐ ☐ ☐ ☐\n",
            "☐ ☐ ☐ 1 ☐ ☐ 5 ☐ ☐ ☐\n",
            "☐ ☐ ☐ 1 1 1 ☐ ☐ ☐ ☐\n",
            "2 3 3 1   1 ☐ ☐ 2 ☐\n",
            "☐ ☐ ☐ 3 1 3 ☐ 3 2 1\n",
            "☐ 4 ☐ ☐ ☐ ☐ ☐ ☐ ☐ ☐\n",
            "☐ ☐ ☐ ☐ ☐ 3 ☐ ☐ ☐ 1\n",
            "☐ ☐ ☐ ☐ ☐ ☐ 1 1 ☐ ☐\n",
            "☐ ☐ ☐ ☐ ☐ ☐ ☐ ☐ ☐ ☐\n",
            "☐ ☐ ☐ ☐ ☐ ☐ ☐ ☐ ☐ ☐\n",
            "☐ ☐ ☐ ☐ ☐ ☐ ☐ ☐ ☐ ☐\n",
            "☐ ☐ ☐ ☐ ☐ 4 ☐ ☐ ☐ ☐\n",
            "eng.is_game_over=False open_ratio=0.22\n",
            "tensor([[ 2, 10,  1, 10,  2, 10, 10, 10, 10, 10],\n",
            "        [10, 10, 10,  1, 10, 10,  5, 10, 10, 10],\n",
            "        [10, 10, 10,  1,  1,  1, 10, 10, 10, 10],\n",
            "        [ 2,  3,  3,  1,  0,  1, 10, 10,  2, 10],\n",
            "        [10, 10, 10,  3,  1,  3, 10,  3,  2,  1],\n",
            "        [10,  4, 10, 10, 10, 10, 10, 10, 10, 10],\n",
            "        [10, 10, 10, 10, 10,  3, 10, 10, 10,  1],\n",
            "        [10, 10, 10, 10, 10, 10,  1,  1, 10, 10],\n",
            "        [10, 10, 10, 10, 10, 10, 10, 10, 10, 10],\n",
            "        [10, 10, 10, 10, 10, 10, 10, 10, 10, 10],\n",
            "        [10, 10, 10, 10, 10, 10, 10, 10, 10, 10],\n",
            "        [10, 10, 10, 10, 10,  4, 10, 10, 10, 10]])\n",
            "tensor([[2, 9, 1, 1, 2, 9, 9, 9, 4, 9],\n",
            "        [9, 3, 2, 1, 9, 3, 5, 9, 5, 9],\n",
            "        [2, 9, 1, 1, 1, 1, 3, 9, 4, 1],\n",
            "        [2, 3, 3, 1, 0, 1, 3, 9, 2, 0],\n",
            "        [1, 9, 9, 3, 1, 3, 9, 3, 2, 1],\n",
            "        [2, 4, 9, 4, 9, 4, 9, 2, 1, 9],\n",
            "        [1, 9, 2, 3, 9, 3, 1, 1, 1, 1],\n",
            "        [1, 2, 3, 3, 2, 2, 1, 1, 0, 0],\n",
            "        [2, 4, 9, 9, 2, 3, 9, 2, 0, 0],\n",
            "        [9, 9, 9, 7, 9, 6, 9, 4, 1, 0],\n",
            "        [4, 9, 9, 9, 9, 9, 9, 9, 2, 0],\n",
            "        [2, 9, 9, 4, 3, 4, 9, 9, 2, 0]])\n",
            "tensor([[0, 1, 0, 0, 0, 1, 1, 1, 0, 1],\n",
            "        [1, 0, 0, 0, 1, 0, 0, 1, 0, 1],\n",
            "        [0, 1, 0, 0, 0, 0, 0, 1, 0, 0],\n",
            "        [0, 0, 0, 0, 0, 0, 0, 1, 0, 0],\n",
            "        [0, 1, 1, 0, 0, 0, 1, 0, 0, 0],\n",
            "        [0, 0, 1, 0, 1, 0, 1, 0, 0, 1],\n",
            "        [0, 1, 0, 0, 1, 0, 0, 0, 0, 0],\n",
            "        [0, 0, 0, 0, 0, 0, 0, 0, 0, 0],\n",
            "        [0, 0, 1, 1, 0, 0, 1, 0, 0, 0],\n",
            "        [1, 1, 1, 0, 1, 0, 1, 0, 0, 0],\n",
            "        [0, 1, 1, 1, 1, 1, 1, 1, 0, 0],\n",
            "        [0, 1, 1, 0, 0, 0, 1, 1, 0, 0]])\n",
            "tensor([[-100,    1, -100,    0, -100,    1,    1,    1,    0,    1],\n",
            "        [   1,    0,    0, -100,    1,    0, -100,    1,    0,    1],\n",
            "        [   0,    1,    0, -100, -100, -100,    0,    1,    0,    0],\n",
            "        [-100, -100, -100, -100, -100, -100,    0,    1, -100,    0],\n",
            "        [   0,    1,    1, -100, -100, -100,    1, -100, -100, -100],\n",
            "        [   0, -100,    1,    0,    1,    0,    1,    0,    0,    1],\n",
            "        [   0,    1,    0,    0,    1, -100,    0,    0,    0, -100],\n",
            "        [   0,    0,    0,    0,    0,    0, -100, -100,    0,    0],\n",
            "        [   0,    0,    1,    1,    0,    0,    1,    0,    0,    0],\n",
            "        [   1,    1,    1,    0,    1,    0,    1,    0,    0,    0],\n",
            "        [   0,    1,    1,    1,    1,    1,    1,    1,    0,    0],\n",
            "        [   0,    1,    1,    0,    0, -100,    1,    1,    0,    0]])\n"
          ]
        }
      ]
    },
    {
      "cell_type": "code",
      "source": [
        "def get_batch(batch_size, width=10, height=12):\n",
        "    tensors = []\n",
        "    targets = []\n",
        "    for _ in range(batch_size):\n",
        "        num_mines = random.randint(1, width*height//2)\n",
        "        eng = MinesweeperEngine(width=width, height=height, num_mines=num_mines)\n",
        "        eng.partially_open(open_ratio=0.2)\n",
        "        tensor = eng.to_tensor(is_view_mask=True, only_flags_vs_other=False)\n",
        "        tensors.append(tensor)\n",
        "        targets.append(eng.to_tensor(is_view_mask=False, only_flags_vs_other=True, mask_open=True))\n",
        "    return torch.stack(tensors), torch.stack(targets)"
      ],
      "metadata": {
        "id": "dxoFxX94i4du"
      },
      "execution_count": null,
      "outputs": []
    },
    {
      "cell_type": "code",
      "source": [
        "VOCAB_SIZE = max(CellValue) + 1\n",
        "EMBEDDING_WIDTH = 16\n",
        "HIDDEN_WIDTH = 32\n",
        "OPT_LEARNING_RATE = 5e-4\n",
        "OPT_WEIGHT_DECAY = 0.01\n",
        "OPT_BETAS = (0.9, 0.99)"
      ],
      "metadata": {
        "id": "uLdAYiXkaNR2"
      },
      "execution_count": null,
      "outputs": []
    },
    {
      "cell_type": "code",
      "source": [
        "class PlayerModel(nn.Module):\n",
        "    def __init__(self):\n",
        "        super().__init__()\n",
        "        self.emb = nn.Embedding(VOCAB_SIZE, EMBEDDING_WIDTH)\n",
        "        self.conv1 = nn.Conv2d(in_channels=EMBEDDING_WIDTH, out_channels=HIDDEN_WIDTH, kernel_size=3, padding=2)\n",
        "        self.tanh = nn.Tanh()\n",
        "        self.conv2 = nn.Conv2d(in_channels=HIDDEN_WIDTH, out_channels=HIDDEN_WIDTH, kernel_size=3, padding=1, dilation=2)\n",
        "        self.conv3 = nn.Conv2d(in_channels=HIDDEN_WIDTH, out_channels=2, kernel_size=1, padding=0)\n",
        "\n",
        "    def forward(self, x: torch.Tensor, targets: torch.Tensor | None = None, print_debug=False) -> torch.Tensor:\n",
        "        dim = x.ndim\n",
        "        if dim == 2:\n",
        "            x = x.unsqueeze(0)\n",
        "\n",
        "        if print_debug:\n",
        "            print(f\"input shape: {x.shape}\")\n",
        "\n",
        "        x = self.emb(x)\n",
        "        if print_debug:\n",
        "            print(f\"after emb shape: {x.shape}\")\n",
        "\n",
        "        x = x.permute(0, 3, 1, 2)\n",
        "        if print_debug:\n",
        "            print(f\"after permute shape: {x.shape}\")\n",
        "\n",
        "        x = self.conv1(x)\n",
        "        if print_debug:\n",
        "            print(f\"after conv1 shape: {x.shape}\")\n",
        "\n",
        "        x = self.tanh(x)\n",
        "        if print_debug:\n",
        "            print(f\"after tanh shape: {x.shape}\")\n",
        "\n",
        "        x = self.conv2(x)\n",
        "        if print_debug:\n",
        "            print(f\"after conv2 shape: {x.shape}\")\n",
        "\n",
        "        x = self.tanh(x)\n",
        "        if print_debug:\n",
        "            print(f\"after tanh shape: {x.shape}\")\n",
        "\n",
        "        x = self.conv3(x)\n",
        "        if print_debug:\n",
        "            print(f\"after conv3 shape: {x.shape}\")\n",
        "\n",
        "        logits = x\n",
        "        loss = None\n",
        "        if targets is not None:\n",
        "            if targets.ndim == 2:\n",
        "                targets = targets.unsqueeze(0)\n",
        "            if print_debug:\n",
        "                print(f\"targets shape: {targets.shape}\")\n",
        "            loss = F.cross_entropy(logits, targets)\n",
        "        if dim == 2:\n",
        "            logits = logits.squeeze(0)\n",
        "        return logits, loss"
      ],
      "metadata": {
        "id": "GQsQ0BzjZWt6"
      },
      "execution_count": null,
      "outputs": []
    },
    {
      "cell_type": "code",
      "source": [
        "with torch.no_grad():\n",
        "    model = PlayerModel().to(device)\n",
        "    num_params = sum((p.numel() for p in model.parameters()))\n",
        "    print(f\"Number of parameters: {num_params}\")\n",
        "    model.eval()\n",
        "    X, Y = get_batch(3)\n",
        "    logits, loss = model(X, targets=Y, print_debug=True)\n",
        "    print(f\"{logits.shape=} {loss.shape=}\")"
      ],
      "metadata": {
        "colab": {
          "base_uri": "https://localhost:8080/"
        },
        "id": "tAMH02fpfm7Q",
        "outputId": "f1d6cb0e-db09-48b2-d73d-9ec6598473af"
      },
      "execution_count": null,
      "outputs": [
        {
          "output_type": "stream",
          "name": "stdout",
          "text": [
            "Number of parameters: 14178\n",
            "input shape: torch.Size([3, 12, 10])\n",
            "after emb shape: torch.Size([3, 12, 10, 16])\n",
            "after permute shape: torch.Size([3, 16, 12, 10])\n",
            "after conv1 shape: torch.Size([3, 32, 14, 12])\n",
            "after tanh shape: torch.Size([3, 32, 14, 12])\n",
            "after conv2 shape: torch.Size([3, 32, 12, 10])\n",
            "after tanh shape: torch.Size([3, 32, 12, 10])\n",
            "after conv3 shape: torch.Size([3, 2, 12, 10])\n",
            "targets shape: torch.Size([3, 12, 10])\n",
            "logits.shape=torch.Size([3, 2, 12, 10]) loss.shape=torch.Size([])\n"
          ]
        }
      ]
    },
    {
      "cell_type": "code",
      "source": [
        "class Trainer:\n",
        "    def __init__(self, model: nn.Module):\n",
        "        self.model = model\n",
        "        self.step_counter = 0\n",
        "        self.lossi = []  # Loss at every training step\n",
        "        self.restart_steps = []  # At which step we restarted training.\n",
        "\n",
        "    def do_train(self, num_steps, learning_rate=OPT_LEARNING_RATE):\n",
        "        self.model.train()\n",
        "        optimizer = torch.optim.AdamW(model.parameters(), lr=learning_rate, weight_decay=OPT_WEIGHT_DECAY, betas=OPT_BETAS, eps=1e-8)\n",
        "        print_freq = num_steps // 15\n",
        "        self.restart_steps.append(self.step_counter)\n",
        "        for iter in range(num_steps):\n",
        "            start_t = time.time()\n",
        "            X, Y = get_batch(32)\n",
        "            batch_t = time.time()\n",
        "            optimizer.zero_grad()\n",
        "            _, loss = self.model(X, targets=Y)\n",
        "            loss.backward()\n",
        "            optimizer.step()\n",
        "            self.lossi.append(loss.log10().item())\n",
        "            end_t = time.time()\n",
        "            if iter % print_freq == 0:\n",
        "                step_time = end_t - start_t\n",
        "                get_batch_time = batch_t - start_t\n",
        "                with torch.no_grad():\n",
        "                    self.model.eval()\n",
        "                    X, Y = get_batch(128, width=32, height=32)\n",
        "                    _, eval_loss = self.model(X, targets=Y)\n",
        "                    self.model.train()\n",
        "                eval_time = time.time() - end_t\n",
        "                print(f\"{self.step_counter=} {step_time=:.2f} {get_batch_time=:.2f} {eval_time=:.2f} {loss.item()=:.4f} {eval_loss.item()=:.4f}\")\n",
        "            self.step_counter += 1\n",
        "\n",
        "trainer = Trainer(model)"
      ],
      "metadata": {
        "id": "tMAk5hLGlWH1"
      },
      "execution_count": null,
      "outputs": []
    },
    {
      "cell_type": "code",
      "source": [
        "%%time\n",
        "trainer.do_train(num_steps=10000, learning_rate=OPT_LEARNING_RATE)"
      ],
      "metadata": {
        "colab": {
          "base_uri": "https://localhost:8080/"
        },
        "id": "cWEboUXkYbIW",
        "outputId": "fecab02d-4aba-4f39-95c8-e27e0e81d5a8"
      },
      "execution_count": null,
      "outputs": [
        {
          "output_type": "stream",
          "name": "stdout",
          "text": [
            "self.step_counter=1000 step_time=0.09 get_batch_time=0.07 eval_time=19.06 loss.item()=0.5537 eval_loss.item()=0.5984\n",
            "self.step_counter=1666 step_time=0.09 get_batch_time=0.07 eval_time=13.11 loss.item()=0.5747 eval_loss.item()=0.5582\n",
            "self.step_counter=2332 step_time=0.09 get_batch_time=0.07 eval_time=12.39 loss.item()=0.5670 eval_loss.item()=0.5337\n",
            "self.step_counter=2998 step_time=0.07 get_batch_time=0.05 eval_time=13.28 loss.item()=0.5163 eval_loss.item()=0.5367\n",
            "self.step_counter=3664 step_time=0.08 get_batch_time=0.06 eval_time=13.15 loss.item()=0.5071 eval_loss.item()=0.5248\n",
            "self.step_counter=4330 step_time=0.07 get_batch_time=0.05 eval_time=14.86 loss.item()=0.4803 eval_loss.item()=0.5419\n",
            "self.step_counter=4996 step_time=0.08 get_batch_time=0.06 eval_time=14.66 loss.item()=0.5102 eval_loss.item()=0.5231\n",
            "self.step_counter=5662 step_time=0.07 get_batch_time=0.05 eval_time=13.31 loss.item()=0.5018 eval_loss.item()=0.5159\n",
            "self.step_counter=6328 step_time=0.09 get_batch_time=0.07 eval_time=13.10 loss.item()=0.5212 eval_loss.item()=0.5236\n",
            "self.step_counter=6994 step_time=0.09 get_batch_time=0.07 eval_time=12.35 loss.item()=0.5396 eval_loss.item()=0.5100\n",
            "self.step_counter=7660 step_time=0.09 get_batch_time=0.07 eval_time=13.92 loss.item()=0.5675 eval_loss.item()=0.5308\n",
            "self.step_counter=8326 step_time=0.09 get_batch_time=0.07 eval_time=14.82 loss.item()=0.5269 eval_loss.item()=0.5304\n",
            "self.step_counter=8992 step_time=0.08 get_batch_time=0.06 eval_time=14.85 loss.item()=0.4910 eval_loss.item()=0.5059\n",
            "self.step_counter=9658 step_time=0.08 get_batch_time=0.06 eval_time=14.34 loss.item()=0.5003 eval_loss.item()=0.5255\n",
            "self.step_counter=10324 step_time=0.09 get_batch_time=0.08 eval_time=14.47 loss.item()=0.5339 eval_loss.item()=0.5217\n",
            "self.step_counter=10990 step_time=0.08 get_batch_time=0.07 eval_time=14.80 loss.item()=0.5213 eval_loss.item()=0.5171\n",
            "CPU times: user 19min 51s, sys: 3.35 s, total: 19min 55s\n",
            "Wall time: 20min 11s\n"
          ]
        }
      ]
    },
    {
      "cell_type": "code",
      "source": [
        "smooth_over_steps = 100\n",
        "plt.plot(torch.tensor(trainer.lossi).view(-1, smooth_over_steps).mean(1))\n",
        "for x in trainer.restart_steps[1:]:\n",
        "    plt.axvline(x//smooth_over_steps, linestyle=\":\", color=\"grey\")"
      ],
      "metadata": {
        "colab": {
          "base_uri": "https://localhost:8080/",
          "height": 430
        },
        "id": "w8-Ti6b4ZG2q",
        "outputId": "d1437821-65ef-424c-aa48-975f06a19844"
      },
      "execution_count": null,
      "outputs": [
        {
          "output_type": "display_data",
          "data": {
            "text/plain": [
              "<Figure size 640x480 with 1 Axes>"
            ],
            "image/png": "[encoded data removed]"
          },
          "metadata": {}
        }
      ]
    },
    {
      "cell_type": "code",
      "source": [
        "def generate_move(model: nn.Module, eng: MinesweeperEngine) -> tuple[int, int, float]:\n",
        "    with torch.no_grad():\n",
        "        model.eval()\n",
        "        tensor = eng.to_tensor(is_view_mask=True, only_flags_vs_other=False)\n",
        "        logits, _ = model(tensor)\n",
        "        probs = F.softmax(logits, dim=0)\n",
        "        mask = (eng.to_tensor(is_view_mask=True, only_flags_vs_other=False) == CellValue.HIDDEN).float()\n",
        "        probs = probs[0, :, :] * mask\n",
        "        plt.imshow(probs)\n",
        "        max_ind = torch.argmax(probs).item()\n",
        "        x = max_ind % tensor.shape[1]\n",
        "        y = max_ind // tensor.shape[1]\n",
        "        return x, y, probs[y, x].item() * 100.0"
      ],
      "metadata": {
        "id": "4Gj1BwkAahgP"
      },
      "execution_count": null,
      "outputs": []
    },
    {
      "cell_type": "code",
      "source": [
        "eng = MinesweeperEngine(width=10, height=12, num_mines=40)\n",
        "eng.partially_open(open_ratio=0.2)\n",
        "print(eng.to_str(is_view_mask=True))\n",
        "while not eng.is_game_over:\n",
        "    x, y, prob = generate_move(model, eng)\n",
        "    print(f\"{x=} {y=} {prob=:.2f}\")\n",
        "    eng.open_cell(x, y)\n",
        "    print(eng.to_str(is_view_mask=True))"
      ],
      "metadata": {
        "colab": {
          "base_uri": "https://localhost:8080/",
          "height": 1000
        },
        "id": "_WDGVbwddPxx",
        "outputId": "bc5e45ac-8e9e-4fa8-a7ef-e8fb09409fa5"
      },
      "execution_count": null,
      "outputs": [
        {
          "output_type": "stream",
          "name": "stdout",
          "text": [
            "    2 ☐ ☐ ☐ ☐ ☐ 2 ☐\n",
            "1 2 3 ☐ ☐ ☐ ☐ ☐ 4 ☐\n",
            "☐ ☐ ☐ 5 ☐ ☐ 4 ☐ ☐ ☐\n",
            "☐ ☐ ☐ ☐ ☐ ☐ ☐ ☐ ☐ ☐\n",
            "☐ ☐ ☐ ☐ ☐ ☐ ☐ ☐ ☐ ☐\n",
            "☐ ☐ ☐ ☐ 4 4 ☐ ☐ ☐ 2\n",
            "2 ☐ 4 ☐ ☐ ☐ ☐ 2 1 1\n",
            "☐ ☐ ☐ 3 ☐ ☐ ☐ 1    \n",
            "☐ ☐ ☐ 3 ☐ ☐ ☐ 2 1 1\n",
            "☐ 2 ☐ ☐ ☐ ☐ ☐ ☐ ☐ 2\n",
            "☐ ☐ 2 ☐ ☐ ☐ ☐ ☐ ☐ ☐\n",
            "☐ ☐ ☐ ☐ ☐ ☐ ☐ ☐ ☐ ☐\n",
            "x=7 y=5 prob=97.75\n",
            "    2 ☐ ☐ ☐ ☐ ☐ 2 ☐\n",
            "1 2 3 ☐ ☐ ☐ ☐ ☐ 4 ☐\n",
            "☐ ☐ ☐ 5 ☐ ☐ 4 ☐ ☐ ☐\n",
            "☐ ☐ ☐ ☐ ☐ ☐ ☐ ☐ ☐ ☐\n",
            "☐ ☐ ☐ ☐ ☐ ☐ ☐ ☐ ☐ ☐\n",
            "☐ ☐ ☐ ☐ 4 4 ☐ 2 ☐ 2\n",
            "2 ☐ 4 ☐ ☐ ☐ ☐ 2 1 1\n",
            "☐ ☐ ☐ 3 ☐ ☐ ☐ 1    \n",
            "☐ ☐ ☐ 3 ☐ ☐ ☐ 2 1 1\n",
            "☐ 2 ☐ ☐ ☐ ☐ ☐ ☐ ☐ 2\n",
            "☐ ☐ 2 ☐ ☐ ☐ ☐ ☐ ☐ ☐\n",
            "☐ ☐ ☐ ☐ ☐ ☐ ☐ ☐ ☐ ☐\n",
            "x=7 y=9 prob=97.69\n",
            "    2 ☐ ☐ ☐ ☐ ☐ 2 ☐\n",
            "1 2 3 ☐ ☐ ☐ ☐ ☐ 4 ☐\n",
            "☐ ☐ ☐ 5 ☐ ☐ 4 ☐ ☐ ☐\n",
            "☐ ☐ ☐ ☐ ☐ ☐ ☐ ☐ ☐ ☐\n",
            "☐ ☐ ☐ ☐ ☐ ☐ ☐ ☐ ☐ ☐\n",
            "☐ ☐ ☐ ☐ 4 4 ☐ 2 ☐ 2\n",
            "2 ☐ 4 ☐ ☐ ☐ ☐ 2 1 1\n",
            "☐ ☐ ☐ 3 ☐ ☐ ☐ 1    \n",
            "☐ ☐ ☐ 3 ☐ ☐ ☐ 2 1 1\n",
            "☐ 2 ☐ ☐ ☐ ☐ ☐ 1 ☐ 2\n",
            "☐ ☐ 2 ☐ ☐ ☐ ☐ ☐ ☐ ☐\n",
            "☐ ☐ ☐ ☐ ☐ ☐ ☐ ☐ ☐ ☐\n",
            "x=7 y=10 prob=97.03\n",
            "    2 ☐ ☐ ☐ ☐ ☐ 2 ☐\n",
            "1 2 3 ☐ ☐ ☐ ☐ ☐ 4 ☐\n",
            "☐ ☐ ☐ 5 ☐ ☐ 4 ☐ ☐ ☐\n",
            "☐ ☐ ☐ ☐ ☐ ☐ ☐ ☐ ☐ ☐\n",
            "☐ ☐ ☐ ☐ ☐ ☐ ☐ ☐ ☐ ☐\n",
            "☐ ☐ ☐ ☐ 4 4 ☐ 2 ☐ 2\n",
            "2 ☐ 4 ☐ ☐ ☐ ☐ 2 1 1\n",
            "☐ ☐ ☐ 3 ☐ ☐ ☐ 1    \n",
            "☐ ☐ ☐ 3 ☐ ☐ ☐ 2 1 1\n",
            "☐ 2 ☐ ☐ ☐ ☐ ☐ 1 ☐ 2\n",
            "☐ ☐ 2 ☐ ☐ ☐ ☐ 1 ☐ ☐\n",
            "☐ ☐ ☐ ☐ ☐ ☐ ☐ ☐ ☐ ☐\n",
            "x=8 y=10 prob=98.19\n",
            "    2 ☐ ☐ ☐ ☐ ☐ 2 ☐\n",
            "1 2 3 ☐ ☐ ☐ ☐ ☐ 4 ☐\n",
            "☐ ☐ ☐ 5 ☐ ☐ 4 ☐ ☐ ☐\n",
            "☐ ☐ ☐ ☐ ☐ ☐ ☐ ☐ ☐ ☐\n",
            "☐ ☐ ☐ ☐ ☐ ☐ ☐ ☐ ☐ ☐\n",
            "☐ ☐ ☐ ☐ 4 4 ☐ 2 ☐ 2\n",
            "2 ☐ 4 ☐ ☐ ☐ ☐ 2 1 1\n",
            "☐ ☐ ☐ 3 ☐ ☐ ☐ 1    \n",
            "☐ ☐ ☐ 3 ☐ ☐ ☐ 2 1 1\n",
            "☐ 2 ☐ ☐ ☐ ☐ ☐ 1 ☐ 2\n",
            "☐ ☐ 2 ☐ ☐ ☐ ☐ 1 2 ☐\n",
            "☐ ☐ ☐ ☐ ☐ ☐ ☐ ☐ ☐ ☐\n",
            "x=6 y=10 prob=97.76\n",
            "    2 ☐ ☐ ☐ ☐ ☐ 2 ☐\n",
            "1 2 3 ☐ ☐ ☐ ☐ ☐ 4 ☐\n",
            "☐ ☐ ☐ 5 ☐ ☐ 4 ☐ ☐ ☐\n",
            "☐ ☐ ☐ ☐ ☐ ☐ ☐ ☐ ☐ ☐\n",
            "☐ ☐ ☐ ☐ ☐ ☐ ☐ ☐ ☐ ☐\n",
            "☐ ☐ ☐ ☐ 4 4 ☐ 2 ☐ 2\n",
            "2 ☐ 4 ☐ ☐ ☐ ☐ 2 1 1\n",
            "☐ ☐ ☐ 3 ☐ ☐ ☐ 1    \n",
            "☐ ☐ ☐ 3 ☐ 4 2 2 1 1\n",
            "☐ 2 ☐ ☐ ☐ 2   1 ☐ 2\n",
            "☐ ☐ 2 ☐ ☐ 2   1 2 ☐\n",
            "☐ ☐ ☐ ☐ ☐ 1     1 ☐\n",
            "x=6 y=6 prob=93.74\n",
            "    2 ☐ ☐ ☐ ☐ ☐ 2 ☐\n",
            "1 2 3 ☐ ☐ ☐ ☐ ☐ 4 ☐\n",
            "☐ ☐ ☐ 5 ☐ ☐ 4 ☐ ☐ ☐\n",
            "☐ ☐ ☐ ☐ ☐ ☐ ☐ ☐ ☐ ☐\n",
            "☐ ☐ ☐ ☐ ☐ ☐ ☐ ☐ ☐ ☐\n",
            "☐ ☐ ☐ ☐ 4 4 ☐ 2 ☐ 2\n",
            "2 ☐ 4 ☐ ☐ ☐ 3 2 1 1\n",
            "☐ ☐ ☐ 3 ☐ ☐ ☐ 1    \n",
            "☐ ☐ ☐ 3 ☐ 4 2 2 1 1\n",
            "☐ 2 ☐ ☐ ☐ 2   1 ☐ 2\n",
            "☐ ☐ 2 ☐ ☐ 2   1 2 ☐\n",
            "☐ ☐ ☐ ☐ ☐ 1     1 ☐\n",
            "x=2 y=9 prob=83.68\n",
            "    2 ☐ ☐ ☐ ☐ ☐ 2 ☐\n",
            "1 2 3 ☐ ☐ ☐ ☐ ☐ 4 ☐\n",
            "☐ ☐ ☐ 5 ☐ ☐ 4 ☐ ☐ ☐\n",
            "☐ ☐ ☐ ☐ ☐ ☐ ☐ ☐ ☐ ☐\n",
            "☐ ☐ ☐ ☐ ☐ ☐ ☐ ☐ ☐ ☐\n",
            "☐ ☐ ☐ ☐ 4 4 ☐ 2 ☐ 2\n",
            "2 ☐ 4 ☐ ☐ ☐ 3 2 1 1\n",
            "☐ ☐ ☐ 3 ☐ ☐ ☐ 1    \n",
            "☐ ☐ ☐ 3 ☐ 4 2 2 1 1\n",
            "☐ 2 2 ☐ ☐ 2   1 ☐ 2\n",
            "☐ ☐ 2 ☐ ☐ 2   1 2 ☐\n",
            "☐ ☐ ☐ ☐ ☐ 1     1 ☐\n",
            "x=3 y=10 prob=81.82\n",
            "    2 * * 4 * * 2 *\n",
            "1 2 3 * * * 5 3 4 2\n",
            "* 4 * 5 * * 4 * 2 *\n",
            "* 6 * 5 4 * 4 2 3 2\n",
            "3 * * 4 * 3 * 2 2 *\n",
            "2 * 4 * 4 4 2 2 * 2\n",
            "2 3 4 3 * * 3 2 1 1\n",
            "1 * * 3 4 * * 1    \n",
            "2 3 2 3 * 4 2 2 1 1\n",
            "* 2 2 3 * 2   1 * 2\n",
            "3 * 2 X 3 2   1 2 *\n",
            "* 2 2 2 * 1     1 1\n"
          ]
        },
        {
          "output_type": "display_data",
          "data": {
            "text/plain": [
              "<Figure size 640x480 with 1 Axes>"
            ],
            "image/png": "[encoded data removed]"
          },
          "metadata": {}
        }
      ]
    }
  ]
}