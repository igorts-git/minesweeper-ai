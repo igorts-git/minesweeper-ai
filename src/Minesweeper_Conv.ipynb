{
  "nbformat": 4,
  "nbformat_minor": 0,
  "metadata": {
    "colab": {
      "provenance": [],
      "gpuType": "T4",
      "authorship_tag": "ABX9TyPoY2ufJuHoQWPaxNc9X0ek",
      "include_colab_link": true
    },
    "kernelspec": {
      "name": "python3",
      "display_name": "Python 3"
    },
    "language_info": {
      "name": "python"
    },
    "accelerator": "GPU"
  },
  "cells": [
    {
      "cell_type": "markdown",
      "metadata": {
        "id": "view-in-github",
        "colab_type": "text"
      },
      "source": [
        "<a href=\"https://colab.research.google.com/github/igorts-git/minesweeper-ai/blob/main/src/Minesweeper_Conv.ipynb\" target=\"_parent\"><img src=\"https://colab.research.google.com/assets/colab-badge.svg\" alt=\"Open In Colab\"/></a>"
      ]
    },
    {
      "cell_type": "markdown",
      "source": [
        "# Minesweeper solver using convolutions"
      ],
      "metadata": {
        "id": "vYHO1Le0o6lY"
      }
    },
    {
      "cell_type": "markdown",
      "source": [
        "### Minesweeper engine\n",
        "\n",
        "The game logic is stored in a separate file `engine.py` on [GitHub](https://github.com/igorts-git/minesweeper-ai/)\n",
        "\n",
        "In a separate module `ml_dataset.py` (also on GitHub) I put some helper clasess and functions for creating a dataset from randomly generated Minesweeper fields.\n",
        "\n",
        "Each training sample is represented as a matrix of board height by width:\n",
        " * Input: each cell is an integer 0..8 represeting the number in that cell or 10 if the cell is hidden.\n",
        " * Labels: 1 if the cell has a mine in it, 0 if there is no mine, -100 if the cell is open. Note that -100 is a special value for `F.cross_entropy()` that tells it not to compute loss in that cell (because it's open already and its value is known via the input)."
      ],
      "metadata": {
        "id": "iSnbrIt4pCUR"
      }
    },
    {
      "cell_type": "code",
      "source": [
        "!if [ ! -f \"./engine.py\" ]; then wget \"https://raw.githubusercontent.com/igorts-git/minesweeper-ai/main/src/engine.py\"; fi;\n",
        "!if [ ! -f \"./ml_dataset.py\" ]; then wget \"https://raw.githubusercontent.com/igorts-git/minesweeper-ai/main/src/ml_dataset.py\"; fi;"
      ],
      "metadata": {
        "colab": {
          "base_uri": "https://localhost:8080/"
        },
        "id": "Fn-uIBzf3efA",
        "outputId": "6dd3c7c4-7f05-4f21-f2ea-21d55b891fec"
      },
      "execution_count": null,
      "outputs": [
        {
          "output_type": "stream",
          "name": "stdout",
          "text": [
            "--2024-06-17 19:33:20--  https://raw.githubusercontent.com/igorts-git/minesweeper-ai/main/src/engine.py\n",
            "Resolving raw.githubusercontent.com (raw.githubusercontent.com)... 185.199.108.133, 185.199.109.133, 185.199.110.133, ...\n",
            "Connecting to raw.githubusercontent.com (raw.githubusercontent.com)|185.199.108.133|:443... connected.\n",
            "HTTP request sent, awaiting response... 200 OK\n",
            "Length: 5415 (5.3K) [text/plain]\n",
            "Saving to: ‘engine.py’\n",
            "\n",
            "\rengine.py             0%[                    ]       0  --.-KB/s               \rengine.py           100%[===================>]   5.29K  --.-KB/s    in 0s      \n",
            "\n",
            "2024-06-17 19:33:20 (79.3 MB/s) - ‘engine.py’ saved [5415/5415]\n",
            "\n",
            "--2024-06-17 19:33:20--  https://raw.githubusercontent.com/igorts-git/minesweeper-ai/main/src/ml_dataset.py\n",
            "Resolving raw.githubusercontent.com (raw.githubusercontent.com)... 185.199.111.133, 185.199.110.133, 185.199.109.133, ...\n",
            "Connecting to raw.githubusercontent.com (raw.githubusercontent.com)|185.199.111.133|:443... connected.\n",
            "HTTP request sent, awaiting response... 200 OK\n",
            "Length: 7855 (7.7K) [text/plain]\n",
            "Saving to: ‘ml_dataset.py’\n",
            "\n",
            "ml_dataset.py       100%[===================>]   7.67K  --.-KB/s    in 0s      \n",
            "\n",
            "2024-06-17 19:33:20 (85.5 MB/s) - ‘ml_dataset.py’ saved [7855/7855]\n",
            "\n"
          ]
        }
      ]
    },
    {
      "cell_type": "code",
      "execution_count": 33,
      "metadata": {
        "id": "8uLu2LQpo2vG"
      },
      "outputs": [],
      "source": [
        "import random, time\n",
        "import torch\n",
        "import torch.nn as nn\n",
        "import torch.nn.functional as F\n",
        "import matplotlib.pyplot as plt\n",
        "import matplotlib.animation as animation\n",
        "from IPython.display import Image\n",
        "\n",
        "from engine import MinesweeperEngine, CellValue, CELL_STR\n",
        "import ml_dataset\n",
        "%matplotlib inline"
      ]
    },
    {
      "cell_type": "code",
      "source": [
        "# We will use GPU if it is available. Training will run several times faster on a GPU.\n",
        "device = \"cuda\" if torch.cuda.is_available() else \"cpu\"\n",
        "print(f\"{device=}\")"
      ],
      "metadata": {
        "colab": {
          "base_uri": "https://localhost:8080/"
        },
        "id": "W6GBpwroqT_t",
        "outputId": "ee3f1271-fdc6-414e-b50f-fe182481435f"
      },
      "execution_count": null,
      "outputs": [
        {
          "output_type": "stream",
          "name": "stdout",
          "text": [
            "device='cuda'\n"
          ]
        }
      ]
    },
    {
      "cell_type": "markdown",
      "source": [
        "### Generate the dataset"
      ],
      "metadata": {
        "id": "yLVRNTAbUGCa"
      }
    },
    {
      "cell_type": "code",
      "source": [
        "# Training dataset\n",
        "gen = ml_dataset.DatasetGenerator(width=64, height=64, num_samples_per_file=1000, save_dir=\"./data\")\n",
        "gen.GenerateDataset(num_files=4, override=False)"
      ],
      "metadata": {
        "colab": {
          "base_uri": "https://localhost:8080/"
        },
        "id": "wWoWYGEIUFns",
        "outputId": "27e78d56-dd2b-42e7-f3f1-d75d77dd0721"
      },
      "execution_count": null,
      "outputs": [
        {
          "output_type": "stream",
          "name": "stdout",
          "text": [
            "generated ./data/minesweeper_64x64_per_file_1000_file_idx_0.pt.gz in 21.70s\n",
            "generated ./data/minesweeper_64x64_per_file_1000_file_idx_1.pt.gz in 22.39s\n",
            "generated ./data/minesweeper_64x64_per_file_1000_file_idx_2.pt.gz in 19.24s\n",
            "generated ./data/minesweeper_64x64_per_file_1000_file_idx_3.pt.gz in 18.58s\n"
          ]
        }
      ]
    },
    {
      "cell_type": "code",
      "source": [
        "# Test dataset\n",
        "gen = ml_dataset.DatasetGenerator(width=128, height=128, num_samples_per_file=32, save_dir=\"./data\")\n",
        "gen.GenerateDataset(num_files=2, override=False)"
      ],
      "metadata": {
        "colab": {
          "base_uri": "https://localhost:8080/"
        },
        "id": "lMdxtjxrXMZD",
        "outputId": "956247f2-020c-45bc-a74c-c9a1a8d5d80b"
      },
      "execution_count": null,
      "outputs": [
        {
          "output_type": "stream",
          "name": "stdout",
          "text": [
            "generated ./data/minesweeper_128x128_per_file_32_file_idx_0.pt.gz in 2.55s\n",
            "generated ./data/minesweeper_128x128_per_file_32_file_idx_1.pt.gz in 2.68s\n"
          ]
        }
      ]
    },
    {
      "cell_type": "code",
      "source": [
        "!du -sh ./data"
      ],
      "metadata": {
        "colab": {
          "base_uri": "https://localhost:8080/"
        },
        "id": "jaB7bgLcofcI",
        "outputId": "21aa2341-def8-4ce9-8cbf-cff77102d597"
      },
      "execution_count": null,
      "outputs": [
        {
          "output_type": "stream",
          "name": "stdout",
          "text": [
            "7.2M\t./data\n"
          ]
        }
      ]
    },
    {
      "cell_type": "markdown",
      "source": [
        "### Build the model"
      ],
      "metadata": {
        "id": "AdJiAygvyZlx"
      }
    },
    {
      "cell_type": "code",
      "source": [
        "eng = MinesweeperEngine(width=10, height=12, num_mines=40)\n",
        "eng.partially_open(open_ratio=0.2)\n",
        "print(eng.to_str(is_view_mask=True))\n",
        "print(f\"{eng.is_game_over=} open_ratio={eng.open_ratio():.2f}\")\n",
        "print(ml_dataset.EngineToInputTensor(eng, device=device))\n",
        "print(ml_dataset.EngineToLabelsTensor(eng, device=device))"
      ],
      "metadata": {
        "colab": {
          "base_uri": "https://localhost:8080/"
        },
        "id": "1Fc7t2QWsnY-",
        "outputId": "0bcd84ec-6270-4f47-b808-05916151ce7c"
      },
      "execution_count": null,
      "outputs": [
        {
          "output_type": "stream",
          "name": "stdout",
          "text": [
            "1 ☒ ☒ ☒ ☒ 3 ☒ ☒ ☐ 2\n",
            "☐ ☐ 5 ☐ ☐ ☐ ☒ ☒ ☒ ☒\n",
            "☐ ☒ ☒ ☐ ☒ ☒ ☐ ☐ ☐ ☒\n",
            "☒ ☐ 5 ☐ ☐ ☐ ☒ ☐ ☒ ☒\n",
            "☐ ☒ ☒ ☒ ☐ ☐ ☐ 3 2 2\n",
            "☒ ☐ ☒ ☐ ☐ ☐ ☒ 1    \n",
            "☐ ☐ ☐ ☒ ☒ ☒ 2 1    \n",
            "☐ ☐ ☒ ☐ ☒ ☐ 1      \n",
            "☐ ☐ ☐ ☐ ☒ ☐ 1 2 3 2\n",
            "☒ 2 ☐ ☒ 3 ☐ ☐ ☒ ☒ ☒\n",
            "☐ ☐ ☒ ☒ 3 2 ☐ 3 ☐ ☐\n",
            "☐ ☐ ☐ ☐ ☒ ☐ ☒ ☐ ☐ ☐\n",
            "eng.is_game_over=False open_ratio=0.23\n",
            "tensor([[ 1, 10, 10, 10, 10,  3, 10, 10, 10,  2],\n",
            "        [10, 10,  5, 10, 10, 10, 10, 10, 10, 10],\n",
            "        [10, 10, 10, 10, 10, 10, 10, 10, 10, 10],\n",
            "        [10, 10,  5, 10, 10, 10, 10, 10, 10, 10],\n",
            "        [10, 10, 10, 10, 10, 10, 10,  3,  2,  2],\n",
            "        [10, 10, 10, 10, 10, 10, 10,  1,  0,  0],\n",
            "        [10, 10, 10, 10, 10, 10,  2,  1,  0,  0],\n",
            "        [10, 10, 10, 10, 10, 10,  1,  0,  0,  0],\n",
            "        [10, 10, 10, 10, 10, 10,  1,  2,  3,  2],\n",
            "        [10,  2, 10, 10,  3, 10, 10, 10, 10, 10],\n",
            "        [10, 10, 10, 10,  3,  2, 10,  3, 10, 10],\n",
            "        [10, 10, 10, 10, 10, 10, 10, 10, 10, 10]], device='cuda:0')\n",
            "tensor([[-100,    1,    1,    1,    1, -100,    1,    1,    0, -100],\n",
            "        [   0,    0, -100,    0,    0,    0,    1,    1,    1,    1],\n",
            "        [   0,    1,    1,    0,    1,    1,    0,    0,    0,    1],\n",
            "        [   1,    0, -100,    0,    0,    0,    1,    0,    1,    1],\n",
            "        [   0,    1,    1,    1,    0,    0,    0, -100, -100, -100],\n",
            "        [   1,    0,    1,    0,    0,    0,    1, -100, -100, -100],\n",
            "        [   0,    0,    0,    1,    1,    1, -100, -100, -100, -100],\n",
            "        [   0,    0,    1,    0,    1,    0, -100, -100, -100, -100],\n",
            "        [   0,    0,    0,    0,    1,    0, -100, -100, -100, -100],\n",
            "        [   1, -100,    0,    1, -100,    0,    0,    1,    1,    1],\n",
            "        [   0,    0,    1,    1, -100, -100,    0, -100,    0,    0],\n",
            "        [   0,    0,    0,    0,    1,    0,    1,    0,    0,    0]],\n",
            "       device='cuda:0')\n"
          ]
        }
      ]
    },
    {
      "cell_type": "code",
      "source": [
        "eval_dataset = ml_dataset.MinesweeperDataset(width=128, height=128, num_samples_per_file=32, data_dir=\"./data\")\n",
        "eval_dataloader = torch.utils.data.DataLoader(eval_dataset, batch_size=512, shuffle=False)\n",
        "print(f\"{len(eval_dataset)=}\")\n",
        "a, b = next(iter(eval_dataloader))\n",
        "eval_data = (a.to(device), b.to(device))"
      ],
      "metadata": {
        "colab": {
          "base_uri": "https://localhost:8080/"
        },
        "id": "uI60Nia8UE_p",
        "outputId": "55fdd111-bfd9-4579-bff8-2b449ce13198"
      },
      "execution_count": null,
      "outputs": [
        {
          "output_type": "stream",
          "name": "stdout",
          "text": [
            "len(eval_dataset)=512\n"
          ]
        }
      ]
    },
    {
      "cell_type": "code",
      "source": [
        "# We use shuffling built into the dataset reader, because it caches the whole file content in memory.\n",
        "# Don't let the dataloader shuffle, because it will be prohibitevely slow.\n",
        "train_dataset = ml_dataset.MinesweeperDataset(width=64, height=64, shuffle=True)\n",
        "train_dataloader = torch.utils.data.DataLoader(train_dataset, batch_size=32, shuffle=False, num_workers=2)\n",
        "print(f\"{len(train_dataset)=} {len(train_dataloader)=}\")"
      ],
      "metadata": {
        "colab": {
          "base_uri": "https://localhost:8080/"
        },
        "id": "H8fCCzIZg3Q3",
        "outputId": "79e47e2b-3e7e-4df0-d514-78a8c63ffdc2"
      },
      "execution_count": null,
      "outputs": [
        {
          "output_type": "stream",
          "name": "stdout",
          "text": [
            "len(train_dataset)=32000 len(train_dataloader)=1000\n"
          ]
        }
      ]
    },
    {
      "cell_type": "code",
      "source": [
        "VOCAB_SIZE = max(CellValue) + 1\n",
        "HIDDEN_WIDTH = 64\n",
        "OPT_LEARNING_RATE = 5e-4\n",
        "OPT_WEIGHT_DECAY = 0.01\n",
        "OPT_BETAS = (0.9, 0.99)\n",
        "DROPOUT_RATE = 0.1"
      ],
      "metadata": {
        "id": "uLdAYiXkaNR2"
      },
      "execution_count": null,
      "outputs": []
    },
    {
      "cell_type": "code",
      "source": [
        "class ConvBlock(nn.Module):\n",
        "    def __init__(self, num_channels=HIDDEN_WIDTH, kernel_size=3, padding=1):\n",
        "        super().__init__()\n",
        "        self.conv = nn.Conv2d(in_channels=num_channels, out_channels=num_channels, kernel_size=kernel_size, padding=padding)\n",
        "        self.tanh = nn.Tanh()\n",
        "        self.dropout = nn.Dropout(DROPOUT_RATE)\n",
        "        self.batch_norm = nn.BatchNorm2d(num_channels)\n",
        "\n",
        "    def forward(self, input: torch.Tensor) -> torch.Tensor:\n",
        "        x = self.dropout(input)\n",
        "        x = self.conv(x)\n",
        "        x = self.batch_norm(x)\n",
        "        x = self.tanh(x)\n",
        "        x = x + input\n",
        "        return x\n",
        "\n",
        "class PlayerModel(nn.Module):\n",
        "    def __init__(self):\n",
        "        super().__init__()\n",
        "        self.emb = nn.Embedding(VOCAB_SIZE, HIDDEN_WIDTH)\n",
        "        self.conv_blocks = nn.Sequential(\n",
        "            ConvBlock(),\n",
        "            ConvBlock(),\n",
        "            ConvBlock(),\n",
        "            ConvBlock(),\n",
        "        )\n",
        "        self.top_conv = nn.Conv2d(in_channels=HIDDEN_WIDTH, out_channels=2, kernel_size=1, padding=0)\n",
        "\n",
        "    def forward(self, x: torch.Tensor, targets: torch.Tensor | None = None, print_debug=False) -> torch.Tensor:\n",
        "        dim = x.ndim\n",
        "        if dim == 2:\n",
        "            x = x.unsqueeze(0)\n",
        "\n",
        "        if print_debug:\n",
        "            print(f\"input shape: {x.shape}\")\n",
        "\n",
        "        x = self.emb(x)\n",
        "        if print_debug:\n",
        "            print(f\"after emb shape: {x.shape}\")\n",
        "\n",
        "        x = x.permute(0, 3, 1, 2)\n",
        "        if print_debug:\n",
        "            print(f\"after permute shape: {x.shape}\")\n",
        "\n",
        "        x = self.conv_blocks(x)\n",
        "        if print_debug:\n",
        "            print(f\"after conv_blocks shape: {x.shape}\")\n",
        "\n",
        "        x = self.top_conv(x)\n",
        "        if print_debug:\n",
        "            print(f\"after top_conv shape: {x.shape}\")\n",
        "\n",
        "        logits = x\n",
        "        loss = None\n",
        "        if targets is not None:\n",
        "            if targets.ndim == 2:\n",
        "                targets = targets.unsqueeze(0)\n",
        "            if print_debug:\n",
        "                print(f\"targets shape: {targets.shape}\")\n",
        "            loss = F.cross_entropy(logits, targets)\n",
        "        if dim == 2:\n",
        "            logits = logits.squeeze(0)\n",
        "        return logits, loss"
      ],
      "metadata": {
        "id": "GQsQ0BzjZWt6"
      },
      "execution_count": null,
      "outputs": []
    },
    {
      "cell_type": "code",
      "source": [
        "with torch.no_grad():\n",
        "    model = PlayerModel().to(device)\n",
        "    num_params = sum((p.numel() for p in model.parameters()))\n",
        "    print(f\"Number of parameters: {num_params}\")\n",
        "    model.eval()\n",
        "    X, Y = next(iter(train_dataloader))\n",
        "    X = X.to(device)\n",
        "    Y = Y.to(device)\n",
        "    logits, loss = model(X, targets=Y, print_debug=True)\n",
        "    print(f\"{logits.shape=} {loss.shape=}\")"
      ],
      "metadata": {
        "colab": {
          "base_uri": "https://localhost:8080/"
        },
        "id": "tAMH02fpfm7Q",
        "outputId": "e763e6f2-1f3c-4ee2-ad15-88011b6b658f"
      },
      "execution_count": null,
      "outputs": [
        {
          "output_type": "stream",
          "name": "stdout",
          "text": [
            "Number of parameters: 223298\n",
            "input shape: torch.Size([32, 64, 64])\n",
            "after emb shape: torch.Size([32, 64, 64, 64])\n",
            "after permute shape: torch.Size([32, 64, 64, 64])\n",
            "after conv_blocks shape: torch.Size([32, 64, 64, 64])\n",
            "after top_conv shape: torch.Size([32, 2, 64, 64])\n",
            "targets shape: torch.Size([32, 64, 64])\n",
            "logits.shape=torch.Size([32, 2, 64, 64]) loss.shape=torch.Size([])\n"
          ]
        }
      ]
    },
    {
      "cell_type": "code",
      "source": [
        "class Trainer:\n",
        "    def __init__(self, model: nn.Module, eval_data: tuple[torch.Tensor, torch.Tensor]):\n",
        "        self.model = model\n",
        "        self.step_counter = 0\n",
        "        self.lossi = []  # Loss at every training step\n",
        "        self.restart_steps = []  # At which step we restarted training.\n",
        "        self.eval_dataset = eval_data\n",
        "\n",
        "    def do_train(self, num_steps, train_dataloader, learning_rate=OPT_LEARNING_RATE):\n",
        "        self.model.train()\n",
        "        optimizer = torch.optim.AdamW(model.parameters(), lr=learning_rate, weight_decay=OPT_WEIGHT_DECAY, betas=OPT_BETAS, eps=1e-8)\n",
        "        print_freq = num_steps // 15\n",
        "        self.restart_steps.append(self.step_counter)\n",
        "        train_iter = iter(train_dataloader)\n",
        "        for i in range(num_steps):\n",
        "            start_t = time.time()\n",
        "            X, Y = next(train_iter)\n",
        "            X = X.to(device)\n",
        "            Y = Y.to(device)\n",
        "            batch_t = time.time()\n",
        "            optimizer.zero_grad()\n",
        "            _, loss = self.model(X, targets=Y)\n",
        "            loss.backward()\n",
        "            optimizer.step()\n",
        "            self.lossi.append(loss.log10().item())\n",
        "            end_t = time.time()\n",
        "            if i % print_freq == 0:\n",
        "                step_time = end_t - start_t\n",
        "                get_batch_time = batch_t - start_t\n",
        "                get_batch_percent = 100.0 * get_batch_time / step_time\n",
        "                with torch.no_grad():\n",
        "                    self.model.eval()\n",
        "                    X, Y = self.eval_dataset\n",
        "                    _, eval_loss = self.model(X, targets=Y)\n",
        "                    self.model.train()\n",
        "                eval_time = time.time() - end_t\n",
        "                print(f\"{self.step_counter=} {step_time=:.2f} {get_batch_percent=:.1f}% {eval_time=:.2f} {loss.item()=:.4f} {eval_loss.item()=:.4f}\")\n",
        "            self.step_counter += 1"
      ],
      "metadata": {
        "id": "tMAk5hLGlWH1"
      },
      "execution_count": null,
      "outputs": []
    },
    {
      "cell_type": "code",
      "source": [
        "trainer = Trainer(model, eval_data)"
      ],
      "metadata": {
        "id": "f7z7l0bpUHsW"
      },
      "execution_count": null,
      "outputs": []
    },
    {
      "cell_type": "code",
      "source": [
        "%%time\n",
        "for _ in range(4):\n",
        "    trainer.do_train(num_steps=len(train_dataloader), train_dataloader=train_dataloader, learning_rate=OPT_LEARNING_RATE)\n",
        "    # Re-init the dataset to change the shuffle order\n",
        "    train_dataset = ml_dataset.MinesweeperDataset(width=64, height=64, shuffle=True)\n",
        "    train_dataloader = torch.utils.data.DataLoader(train_dataset, batch_size=32, shuffle=False, num_workers=2)"
      ],
      "metadata": {
        "colab": {
          "base_uri": "https://localhost:8080/"
        },
        "id": "cWEboUXkYbIW",
        "outputId": "1cf71a8e-e7c0-4885-98e8-a09d136b3d31"
      },
      "execution_count": 32,
      "outputs": [
        {
          "output_type": "stream",
          "name": "stdout",
          "text": [
            "self.step_counter=4000 step_time=1.01 get_batch_percent=90.3% eval_time=0.00 loss.item()=0.4372 eval_loss.item()=0.4594\n",
            "self.step_counter=4066 step_time=0.08 get_batch_percent=7.3% eval_time=0.01 loss.item()=0.4259 eval_loss.item()=0.4435\n",
            "self.step_counter=4132 step_time=0.08 get_batch_percent=4.0% eval_time=0.00 loss.item()=0.4431 eval_loss.item()=0.4416\n",
            "self.step_counter=4198 step_time=0.08 get_batch_percent=5.9% eval_time=0.01 loss.item()=0.4731 eval_loss.item()=0.4412\n",
            "self.step_counter=4264 step_time=0.08 get_batch_percent=3.8% eval_time=0.00 loss.item()=0.4440 eval_loss.item()=0.4410\n",
            "self.step_counter=4330 step_time=0.08 get_batch_percent=3.9% eval_time=0.00 loss.item()=0.4547 eval_loss.item()=0.4425\n",
            "self.step_counter=4396 step_time=0.08 get_batch_percent=4.0% eval_time=0.00 loss.item()=0.4369 eval_loss.item()=0.4409\n",
            "self.step_counter=4462 step_time=0.08 get_batch_percent=4.1% eval_time=0.00 loss.item()=0.4477 eval_loss.item()=0.4409\n",
            "self.step_counter=4528 step_time=0.08 get_batch_percent=4.0% eval_time=0.01 loss.item()=0.4558 eval_loss.item()=0.4417\n",
            "self.step_counter=4594 step_time=0.08 get_batch_percent=6.7% eval_time=0.00 loss.item()=0.5027 eval_loss.item()=0.4415\n",
            "self.step_counter=4660 step_time=0.08 get_batch_percent=2.6% eval_time=0.01 loss.item()=0.4629 eval_loss.item()=0.4402\n",
            "self.step_counter=4726 step_time=0.08 get_batch_percent=4.1% eval_time=0.00 loss.item()=0.4317 eval_loss.item()=0.4414\n",
            "self.step_counter=4792 step_time=0.08 get_batch_percent=3.7% eval_time=0.00 loss.item()=0.4424 eval_loss.item()=0.4402\n",
            "self.step_counter=4858 step_time=0.08 get_batch_percent=4.2% eval_time=0.00 loss.item()=0.4477 eval_loss.item()=0.4432\n",
            "self.step_counter=4924 step_time=0.08 get_batch_percent=3.8% eval_time=0.00 loss.item()=0.4353 eval_loss.item()=0.4396\n",
            "self.step_counter=4990 step_time=0.08 get_batch_percent=3.9% eval_time=0.00 loss.item()=0.4441 eval_loss.item()=0.4398\n",
            "self.step_counter=5000 step_time=0.98 get_batch_percent=91.9% eval_time=0.00 loss.item()=0.4431 eval_loss.item()=0.4520\n",
            "self.step_counter=5066 step_time=0.08 get_batch_percent=6.8% eval_time=0.00 loss.item()=0.4418 eval_loss.item()=0.4392\n",
            "self.step_counter=5132 step_time=0.08 get_batch_percent=3.7% eval_time=0.00 loss.item()=0.4370 eval_loss.item()=0.4400\n",
            "self.step_counter=5198 step_time=0.10 get_batch_percent=10.6% eval_time=0.02 loss.item()=0.4572 eval_loss.item()=0.4403\n",
            "self.step_counter=5264 step_time=0.09 get_batch_percent=11.3% eval_time=0.01 loss.item()=0.4403 eval_loss.item()=0.4415\n",
            "self.step_counter=5330 step_time=0.08 get_batch_percent=4.3% eval_time=0.00 loss.item()=0.4418 eval_loss.item()=0.4432\n",
            "self.step_counter=5396 step_time=0.09 get_batch_percent=16.3% eval_time=0.01 loss.item()=0.4443 eval_loss.item()=0.4394\n",
            "self.step_counter=5462 step_time=0.10 get_batch_percent=16.2% eval_time=0.01 loss.item()=0.4439 eval_loss.item()=0.4397\n",
            "self.step_counter=5528 step_time=0.09 get_batch_percent=16.3% eval_time=0.01 loss.item()=0.4301 eval_loss.item()=0.4404\n",
            "self.step_counter=5594 step_time=0.10 get_batch_percent=23.7% eval_time=0.00 loss.item()=0.4408 eval_loss.item()=0.4392\n",
            "self.step_counter=5660 step_time=0.08 get_batch_percent=4.3% eval_time=0.00 loss.item()=0.4613 eval_loss.item()=0.4397\n",
            "self.step_counter=5726 step_time=0.08 get_batch_percent=3.9% eval_time=0.00 loss.item()=0.4413 eval_loss.item()=0.4386\n",
            "self.step_counter=5792 step_time=0.08 get_batch_percent=3.7% eval_time=0.00 loss.item()=0.4307 eval_loss.item()=0.4401\n",
            "self.step_counter=5858 step_time=0.08 get_batch_percent=4.0% eval_time=0.00 loss.item()=0.4357 eval_loss.item()=0.4389\n",
            "self.step_counter=5924 step_time=0.08 get_batch_percent=4.1% eval_time=0.00 loss.item()=0.4288 eval_loss.item()=0.4388\n",
            "self.step_counter=5990 step_time=0.08 get_batch_percent=10.4% eval_time=0.00 loss.item()=0.4818 eval_loss.item()=0.4380\n",
            "self.step_counter=6000 step_time=1.30 get_batch_percent=93.7% eval_time=0.01 loss.item()=0.4669 eval_loss.item()=0.4461\n",
            "self.step_counter=6066 step_time=0.08 get_batch_percent=2.4% eval_time=0.00 loss.item()=0.4672 eval_loss.item()=0.4391\n",
            "self.step_counter=6132 step_time=0.09 get_batch_percent=8.9% eval_time=0.01 loss.item()=0.4015 eval_loss.item()=0.4380\n",
            "self.step_counter=6198 step_time=0.08 get_batch_percent=9.5% eval_time=0.01 loss.item()=0.4800 eval_loss.item()=0.4388\n",
            "self.step_counter=6264 step_time=0.08 get_batch_percent=3.9% eval_time=0.00 loss.item()=0.4306 eval_loss.item()=0.4385\n",
            "self.step_counter=6330 step_time=0.08 get_batch_percent=3.9% eval_time=0.00 loss.item()=0.4675 eval_loss.item()=0.4402\n",
            "self.step_counter=6396 step_time=0.08 get_batch_percent=4.1% eval_time=0.01 loss.item()=0.4600 eval_loss.item()=0.4377\n",
            "self.step_counter=6462 step_time=0.08 get_batch_percent=4.0% eval_time=0.00 loss.item()=0.4743 eval_loss.item()=0.4384\n",
            "self.step_counter=6528 step_time=0.09 get_batch_percent=16.3% eval_time=0.01 loss.item()=0.4455 eval_loss.item()=0.4383\n",
            "self.step_counter=6594 step_time=0.08 get_batch_percent=4.0% eval_time=0.01 loss.item()=0.4395 eval_loss.item()=0.4383\n",
            "self.step_counter=6660 step_time=0.08 get_batch_percent=2.6% eval_time=0.00 loss.item()=0.4700 eval_loss.item()=0.4431\n",
            "self.step_counter=6726 step_time=0.08 get_batch_percent=4.1% eval_time=0.00 loss.item()=0.4404 eval_loss.item()=0.4382\n",
            "self.step_counter=6792 step_time=0.08 get_batch_percent=3.8% eval_time=0.00 loss.item()=0.4159 eval_loss.item()=0.4372\n",
            "self.step_counter=6858 step_time=0.08 get_batch_percent=4.3% eval_time=0.02 loss.item()=0.4636 eval_loss.item()=0.4374\n",
            "self.step_counter=6924 step_time=0.08 get_batch_percent=3.8% eval_time=0.00 loss.item()=0.4379 eval_loss.item()=0.4377\n",
            "self.step_counter=6990 step_time=0.08 get_batch_percent=3.9% eval_time=0.00 loss.item()=0.4339 eval_loss.item()=0.4374\n",
            "self.step_counter=7000 step_time=0.98 get_batch_percent=91.7% eval_time=0.00 loss.item()=0.4617 eval_loss.item()=0.4627\n",
            "self.step_counter=7066 step_time=0.08 get_batch_percent=2.6% eval_time=0.00 loss.item()=0.4628 eval_loss.item()=0.4372\n",
            "self.step_counter=7132 step_time=0.08 get_batch_percent=4.7% eval_time=0.01 loss.item()=0.4657 eval_loss.item()=0.4384\n",
            "self.step_counter=7198 step_time=0.08 get_batch_percent=3.8% eval_time=0.00 loss.item()=0.4406 eval_loss.item()=0.4372\n",
            "self.step_counter=7264 step_time=0.08 get_batch_percent=4.1% eval_time=0.00 loss.item()=0.4295 eval_loss.item()=0.4380\n",
            "self.step_counter=7330 step_time=0.08 get_batch_percent=4.3% eval_time=0.00 loss.item()=0.4219 eval_loss.item()=0.4374\n",
            "self.step_counter=7396 step_time=0.08 get_batch_percent=4.8% eval_time=0.00 loss.item()=0.4601 eval_loss.item()=0.4394\n",
            "self.step_counter=7462 step_time=0.08 get_batch_percent=4.5% eval_time=0.00 loss.item()=0.4442 eval_loss.item()=0.4373\n",
            "self.step_counter=7528 step_time=0.08 get_batch_percent=3.9% eval_time=0.01 loss.item()=0.4478 eval_loss.item()=0.4380\n",
            "self.step_counter=7594 step_time=0.10 get_batch_percent=24.1% eval_time=0.00 loss.item()=0.4579 eval_loss.item()=0.4377\n",
            "self.step_counter=7660 step_time=0.08 get_batch_percent=2.4% eval_time=0.00 loss.item()=0.4430 eval_loss.item()=0.4367\n",
            "self.step_counter=7726 step_time=0.08 get_batch_percent=3.8% eval_time=0.00 loss.item()=0.4407 eval_loss.item()=0.4369\n",
            "self.step_counter=7792 step_time=0.08 get_batch_percent=3.8% eval_time=0.00 loss.item()=0.4219 eval_loss.item()=0.4370\n",
            "self.step_counter=7858 step_time=0.08 get_batch_percent=3.9% eval_time=0.00 loss.item()=0.4448 eval_loss.item()=0.4377\n",
            "self.step_counter=7924 step_time=0.08 get_batch_percent=4.0% eval_time=0.00 loss.item()=0.4694 eval_loss.item()=0.4395\n",
            "self.step_counter=7990 step_time=0.08 get_batch_percent=3.9% eval_time=0.00 loss.item()=0.4537 eval_loss.item()=0.4367\n",
            "CPU times: user 6min 14s, sys: 5.43 s, total: 6min 19s\n",
            "Wall time: 9min 4s\n"
          ]
        }
      ]
    },
    {
      "cell_type": "code",
      "source": [
        "smooth_over_steps = 100\n",
        "num_trim_losses = len(trainer.lossi) % smooth_over_steps\n",
        "end_idx = len(trainer.lossi) - num_trim_losses\n",
        "plt.plot(torch.tensor(trainer.lossi[:end_idx]).view(-1, smooth_over_steps).mean(1))\n",
        "for x in trainer.restart_steps[1:]:\n",
        "    plt.axvline(x//smooth_over_steps, linestyle=\":\", color=\"grey\")"
      ],
      "metadata": {
        "colab": {
          "base_uri": "https://localhost:8080/",
          "height": 430
        },
        "id": "w8-Ti6b4ZG2q",
        "outputId": "23f93420-77c3-4d65-c2c3-d51b713a7651"
      },
      "execution_count": 36,
      "outputs": [
        {
          "output_type": "display_data",
          "data": {
            "text/plain": [
              "<Figure size 640x480 with 1 Axes>"
            ],
            "image/png": "[encoded data removed]"
          },
          "metadata": {}
        }
      ]
    },
    {
      "cell_type": "code",
      "source": [
        "def show_game_probs(eng: MinesweeperEngine, props: torch.Tensor, colormap='binary', text_color='green', max_cell=None, ax: plt.Axes | None = None):\n",
        "    image_and_text = [ax.imshow(props.cpu(), cmap=colormap)]\n",
        "    for y in range(eng.height):\n",
        "        for x in range(eng.width):\n",
        "            if eng.view_mask[y][x] != CellValue.EMPTY:\n",
        "                image_and_text.append(\n",
        "                    ax.text(x, y, CELL_STR[eng.view_mask[y][x]], ha=\"center\", va=\"center\", color=text_color))\n",
        "            if max_cell is not None and (x, y) == max_cell:\n",
        "                image_and_text.append(\n",
        "                    ax.text(x, y, \"*\", ha=\"center\", va=\"center\", color=text_color))\n",
        "    #plt.show()\n",
        "    return image_and_text"
      ],
      "metadata": {
        "id": "cENQpj1SCzzl"
      },
      "execution_count": 46,
      "outputs": []
    },
    {
      "cell_type": "code",
      "source": [
        "def generate_move(model: nn.Module, eng: MinesweeperEngine, ax: plt.Axes | None=None) -> tuple[int, int, float]:\n",
        "    with torch.no_grad():\n",
        "        model.eval()\n",
        "        tensor = ml_dataset.EngineToInputTensor(eng, device=device)\n",
        "        logits, _ = model(tensor)\n",
        "        probs = F.softmax(logits, dim=0)\n",
        "        mask = ml_dataset.EngineToHiddenMask(eng, device=device).float()\n",
        "\n",
        "        # mine_prob = probs[1, :, :] * mask\n",
        "        # show_game_probs(eng, mine_prob, colormap='cool')\n",
        "\n",
        "        probs = probs[0, :, :] * mask\n",
        "\n",
        "        max_ind = torch.argmax(probs).item()\n",
        "        x = max_ind % tensor.shape[1]\n",
        "        y = max_ind // tensor.shape[1]\n",
        "\n",
        "        return x, y, probs[y, x].item() * 100.0, show_game_probs(eng, probs, colormap='hot', max_cell=(x,y), ax=ax)"
      ],
      "metadata": {
        "id": "4Gj1BwkAahgP"
      },
      "execution_count": 47,
      "outputs": []
    },
    {
      "cell_type": "code",
      "source": [
        "fig, ax = plt.subplots()\n",
        "eng = MinesweeperEngine(width=10, height=12, num_mines=30)\n",
        "eng.partially_open(open_ratio=0.2)\n",
        "print(eng.to_str(is_view_mask=True))\n",
        "move = 1\n",
        "images = []\n",
        "while not eng.is_game_over:\n",
        "    x, y, prob, img = generate_move(model, eng, ax=ax)\n",
        "    images.append(img)\n",
        "    print(f\"{move=} {x=} {y=} {prob=:.2f}\")\n",
        "    eng.open_cell(x, y)\n",
        "    move += 1\n",
        "print(eng.to_str(is_view_mask=True))\n",
        "ani = animation.ArtistAnimation(fig=fig, artists=images, interval=500, blit=True, repeat_delay=1000)\n",
        "ani.save('animation.gif', writer='pillow', fps=4)\n",
        "Image('animation.gif')"
      ],
      "metadata": {
        "colab": {
          "base_uri": "https://localhost:8080/",
          "height": 1000
        },
        "id": "_WDGVbwddPxx",
        "outputId": "4aee84de-e7fb-42e4-ac3f-3ef76977e604"
      },
      "execution_count": 49,
      "outputs": [
        {
          "output_type": "stream",
          "name": "stdout",
          "text": [
            "☐ ☐ ☒ ☐ ☒ ☐ 1 ☐ ☐ ☒\n",
            "☐ 2 ☐ ☐ ☐ ☒ ☐ ☐ ☒ ☒\n",
            "☒ ☐ ☐ ☐ 2 ☐ ☐ ☒ ☐ ☐\n",
            "☒ ☐ ☐ ☒ ☐ ☐ ☐ ☐ ☐ ☒\n",
            "☐ ☒ ☐ ☐ ☐ ☐ ☐ ☐ ☐ ☐\n",
            "☒ ☒ ☐ ☐ ☐ ☒ ☐ ☐ ☐ ☐\n",
            "3 ☒ ☐ ☐ ☐ 2 ☐ ☒ ☐ ☐\n",
            "1 2 ☐ ☐ ☒ ☐ ☐ ☐ ☐ ☐\n",
            "  2 ☒ ☐ ☐ ☒ ☐ ☒ ☒ ☐\n",
            "  2 ☒ ☒ ☒ 4 ☒ ☐ ☐ ☒\n",
            "  1 2 3 2 4 ☒ ☐ ☐ ☐\n",
            "          2 ☒ ☐ ☒ ☐\n",
            "move=1 x=2 y=7 prob=99.87\n",
            "move=2 x=2 y=6 prob=99.61\n",
            "move=3 x=3 y=6 prob=99.79\n",
            "move=4 x=3 y=7 prob=99.72\n",
            "move=5 x=3 y=8 prob=97.45\n",
            "move=6 x=4 y=6 prob=98.64\n",
            "move=7 x=2 y=5 prob=99.17\n",
            "move=8 x=6 y=8 prob=93.50\n",
            "move=9 x=1 y=4 prob=87.43\n",
            "  1 * 2 * 2 1 1 3 *\n",
            "1 2 1 2 2 * 2 2 * *\n",
            "* 2 1 1 2 1 2 * 4 3\n",
            "* 3 2 * 1   1 1 2 *\n",
            "4 X 3 1 2 1 1   1 1\n",
            "* * 3   1 * 2 1 1  \n",
            "3 * 2 1 2 2 2 * 1  \n",
            "1 2 2 2 * 2 3 3 3 1\n",
            "  2 * 5 4 * 3 * * 2\n",
            "  2 * * * 4 * 4 3 *\n",
            "  1 2 3 2 4 * 4 2 2\n",
            "          2 * 3 * 1\n"
          ]
        },
        {
          "output_type": "display_data",
          "data": {
            "text/plain": [
              "<Figure size 640x480 with 1 Axes>"
            ],
            "image/png": "[encoded data removed]"
          },
          "metadata": {}
        }
      ]
    }
  ]
}